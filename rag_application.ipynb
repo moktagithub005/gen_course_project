{
 "cells": [
  {
   "cell_type": "code",
   "execution_count": 2,
   "id": "4d24e36d",
   "metadata": {},
   "outputs": [
    {
     "data": {
      "text/plain": [
       "True"
      ]
     },
     "execution_count": 2,
     "metadata": {},
     "output_type": "execute_result"
    }
   ],
   "source": [
    "import os\n",
    "from dotenv import load_dotenv\n",
    "load_dotenv()"
   ]
  },
  {
   "cell_type": "code",
   "execution_count": 3,
   "id": "f92b0c1e",
   "metadata": {},
   "outputs": [],
   "source": [
    "import requests\n",
    "from bs4 import BeautifulSoup"
   ]
  },
  {
   "cell_type": "code",
   "execution_count": 4,
   "id": "7851225b",
   "metadata": {},
   "outputs": [],
   "source": [
    "COMPANY_URL=\"https://blog.google/technology/ai/google-gemini-ai/\"\n",
    "response=requests.get(COMPANY_URL)\n",
    "soup=BeautifulSoup(response.text,\"html.parser\")\n",
    "\n",
    "paragraph=soup.find_all('p')"
   ]
  },
  {
   "cell_type": "code",
   "execution_count": 5,
   "id": "bbc71315",
   "metadata": {},
   "outputs": [],
   "source": [
    "scraped_data=\"\\n\\n\".join([\n",
    "    p.get_text(strip=True) for p in paragraph if\n",
    "    len(p.get_text(strip=True))>30\n",
    "])"
   ]
  },
  {
   "cell_type": "code",
   "execution_count": 6,
   "id": "42f6fcdb",
   "metadata": {},
   "outputs": [
    {
     "name": "stdout",
     "output_type": "stream",
     "text": [
      "Making AI more helpful for everyone\n",
      "\n",
      "A note from Google and Alphabet CEO Sundar Pichai:\n",
      "\n",
      "Every technology shift is an opportunity to advance scientific discovery, accelerate human progress, and improve lives. I believe the transition we are seeing right now with AI will be the most profound in our lifetimes, far bigger than the shift to mobile or to the web before it. AI has the potential to create opportunities — from the everyday to the extraordinary — for people everywhere. It will bring new waves of innovation and economic progress and drive knowledge, learning, creativity and productivity on a scale we haven’t seen before.\n",
      "\n",
      "That’s what excites me: the chance to make AI helpful for everyone, everywhere in the world.\n",
      "\n",
      "Nearly eight years into our journey as an AI-first company, the pace \n"
     ]
    }
   ],
   "source": [
    "print(scraped_data[:800])"
   ]
  },
  {
   "cell_type": "code",
   "execution_count": 7,
   "id": "8b85f38e",
   "metadata": {},
   "outputs": [],
   "source": [
    "from langchain.text_splitter import RecursiveCharacterTextSplitter"
   ]
  },
  {
   "cell_type": "code",
   "execution_count": 8,
   "id": "38ffe396",
   "metadata": {},
   "outputs": [],
   "source": [
    "text_spliter=RecursiveCharacterTextSplitter(chunk_size=500,chunk_overlap=50)\n",
    "docs=text_spliter.create_documents([scraped_data])"
   ]
  },
  {
   "cell_type": "code",
   "execution_count": 9,
   "id": "7435a7be",
   "metadata": {},
   "outputs": [
    {
     "data": {
      "text/plain": [
       "[Document(metadata={}, page_content='Making AI more helpful for everyone\\n\\nA note from Google and Alphabet CEO Sundar Pichai:'),\n",
       " Document(metadata={}, page_content='Every technology shift is an opportunity to advance scientific discovery, accelerate human progress, and improve lives. I believe the transition we are seeing right now with AI will be the most profound in our lifetimes, far bigger than the shift to mobile or to the web before it. AI has the potential to create opportunities — from the everyday to the extraordinary — for people everywhere. It will bring new waves of innovation and economic progress and drive knowledge, learning, creativity and'),\n",
       " Document(metadata={}, page_content='and drive knowledge, learning, creativity and productivity on a scale we haven’t seen before.'),\n",
       " Document(metadata={}, page_content='That’s what excites me: the chance to make AI helpful for everyone, everywhere in the world.'),\n",
       " Document(metadata={}, page_content='Nearly eight years into our journey as an AI-first company, the pace of progress is only accelerating: Millions of people are now using generative AI across our products to do things they couldn’t even a year ago, from finding answers to more complex questions to using new tools to collaborate and create. At the same time, developers are using our models and infrastructure to build new generative AI applications, and startups and enterprises around the world are growing with our AI tools.'),\n",
       " Document(metadata={}, page_content='This is incredible momentum, and yet, we’re only beginning to scratch the surface of what’s possible.'),\n",
       " Document(metadata={}, page_content='We’re approaching this work boldly and responsibly. That means being ambitious in our research and pursuing the capabilities that will bring enormous benefits to people and society, while building in safeguards and working collaboratively with governments and experts to address risks as AI becomes more capable. And we continue to invest in the very best tools, foundation models and infrastructure and bring them to our products and to others, guided by ourAI Principles.'),\n",
       " Document(metadata={}, page_content='Now, we’re taking the next step on our journey with Gemini, our most capable and general model yet, with state-of-the-art performance across many leading benchmarks. Our first version, Gemini 1.0, is optimized for different sizes: Ultra, Pro and Nano. These are the first models of the Gemini era and the first realization of the vision we had when we formed Google DeepMind earlier this year. This new era of models represents one of the biggest science and engineering efforts we’ve undertaken as'),\n",
       " Document(metadata={}, page_content='and engineering efforts we’ve undertaken as a company. I’m genuinely excited for what’s ahead, and for the opportunities Gemini will unlock for people everywhere.'),\n",
       " Document(metadata={}, page_content=\"By Demis Hassabis, CEO and Co-Founder of Google DeepMind, on behalf of the Gemini team\\n\\nAI has been the focus of my life's work, as for many of my research colleagues. Ever since programming AI for computer games as a teenager, and throughout my years as a neuroscience researcher trying to understand the workings of the brain, I’ve always believed that if we could build smarter machines, we could harness them to benefit humanity in incredible ways.\"),\n",
       " Document(metadata={}, page_content='This promise of a world responsibly empowered by AI continues to drive our work at Google DeepMind. For a long time, we’ve wanted to build a new generation of AI models, inspired by the way people understand and interact with the world. AI that feels less like a smart piece of software and more like something useful and intuitive — an expert helper or assistant.\\n\\nToday, we’re a step closer to this vision aswe introduce Gemini, the most capable and general model we’ve ever built.'),\n",
       " Document(metadata={}, page_content='Gemini is the result of large-scale collaborative efforts by teams across Google, including our colleagues at Google Research. It was built from the ground up to be multimodal, which means it can generalize and seamlessly understand, operate across and combine different types of information including text, code, audio, image and video.'),\n",
       " Document(metadata={}, page_content='Gemini is also our most flexible model yet — able to efficiently run on everything from data centers to mobile devices. Its state-of-the-art capabilities will significantly enhance the way developers and enterprise customers build and scale with AI.\\n\\nWe’ve optimized Gemini 1.0, our first version, for three different sizes:'),\n",
       " Document(metadata={}, page_content=\"We've been rigorously testing our Gemini models and evaluating their performance on a wide variety of tasks. From natural image, audio and video understanding to mathematical reasoning, Gemini Ultra’s performance exceeds current state-of-the-art results on 30 of the 32 widely-used academic benchmarks used in large language model (LLM) research and development.\"),\n",
       " Document(metadata={}, page_content='With a score of 90.0%, Gemini Ultra is the first model to outperform human experts onMMLU(massive multitask language understanding), which uses a combination of 57 subjects such as math, physics, history, law, medicine and ethics for testing both world knowledge and problem-solving abilities.'),\n",
       " Document(metadata={}, page_content='Our new benchmark approach to MMLU enables Gemini to use its reasoning capabilities to think more carefully before answering difficult questions, leading to significant improvements over just using its first impression.\\n\\nGemini surpasses state-of-the-art performance on a range of benchmarks including text and coding.'),\n",
       " Document(metadata={}, page_content='Gemini Ultra also achieves a state-of-the-art score of 59.4% on the newMMMUbenchmark, which consists of multimodal tasks spanning different domains requiring deliberate reasoning.'),\n",
       " Document(metadata={}, page_content=\"With the image benchmarks we tested, Gemini Ultra outperformed previous state-of-the-art models, without assistance from optical character recognition (OCR) systems that extract text from images for further processing. These benchmarks highlight Gemini’s native multimodality and indicate early signs of Gemini's more complex reasoning abilities.\\n\\nSee more details in ourGemini technical report.\\n\\nGemini surpasses state-of-the-art performance on a range of multimodal benchmarks.\"),\n",
       " Document(metadata={}, page_content='Until now, the standard approach to creating multimodal models involved training separate components for different modalities and then stitching them together to roughly mimic some of this functionality. These models can sometimes be good at performing certain tasks, like describing images, but struggle with more conceptual and complex reasoning.'),\n",
       " Document(metadata={}, page_content='We designed Gemini to be natively multimodal, pre-trained from the start on different modalities. Then we fine-tuned it with additional multimodal data to further refine its effectiveness. This helps Gemini seamlessly understand and reason about all kinds of inputs from the ground up, far better than existing multimodal models — and its capabilities are state of the art in nearly every domain.\\n\\nLearn more aboutGemini’s capabilities and see how it works.'),\n",
       " Document(metadata={}, page_content='Gemini 1.0’s sophisticated multimodal reasoning capabilities can help make sense of complex written and visual information. This makes it uniquely skilled at uncovering knowledge that can be difficult to discern amid vast amounts of data.\\n\\nIts remarkable ability to extract insights from hundreds of thousands of documents through reading, filtering and understanding information will help deliver new breakthroughs at digital speeds in many fields from science to finance.'),\n",
       " Document(metadata={}, page_content='Gemini 1.0 was trained to recognize and understand text, images, audio and more at the same time, so it better understands nuanced information and can answer questions relating to complicated topics. This makes it especially good at explaining reasoning in complex subjects like math and physics.'),\n",
       " Document(metadata={}, page_content='Our first version of Gemini can understand, explain and generate high-quality code in the world’s most popular programming languages, like Python, Java, C++, and Go. Its ability to work across languages and reason about complex information makes it one of the leading foundation models for coding in the world.'),\n",
       " Document(metadata={}, page_content='Gemini Ultra excels in several coding benchmarks, includingHumanEval, an important industry-standard for evaluating performance on coding tasks, and Natural2Code, our internal held-out dataset, which uses author-generated sources instead of web-based information.\\n\\nGemini can also be used as the engine for more advanced coding systems. Two years ago we presentedAlphaCode, the first AI code generation system to reach a competitive level of performance in programming competitions.'),\n",
       " Document(metadata={}, page_content='Using a specialized version of Gemini, we created a more advanced code generation system,AlphaCode 2, which excels at solving competitive programming problems that go beyond coding to involve complex math and theoretical computer science.'),\n",
       " Document(metadata={}, page_content='When evaluated on the same platform as the original AlphaCode, AlphaCode 2 shows massive improvements, solving nearly twice as many problems, and we estimate that it performs better than 85% of competition participants — up from nearly 50% for AlphaCode. When programmers collaborate with AlphaCode 2 by defining certain properties for the code samples to follow, it performs even better.'),\n",
       " Document(metadata={}, page_content='We’re excited for programmers to increasingly use highly capable AI models as collaborative tools that can help them reason about the problems, propose code designs and assist with implementation — so they can release apps and design better services, faster.\\n\\nSee more details in ourAlphaCode 2 technical report.'),\n",
       " Document(metadata={}, page_content='We trained Gemini 1.0 at scale on our AI-optimized infrastructure using Google’s in-house designedTensor Processing Units(TPUs) v4 and v5e. And we designed it to be our most reliable and scalable model to train, and our most efficient to serve.'),\n",
       " Document(metadata={}, page_content=\"On TPUs, Gemini runs significantly faster than earlier, smaller and less-capable models. These custom-designed AI accelerators have been at the heart of Google's AI-powered products that serve billions of users like Search, YouTube, Gmail, Google Maps, Google Play and Android. They’ve also enabled companies around the world to train large-scale AI models cost-efficiently.\"),\n",
       " Document(metadata={}, page_content='Today, we’re announcing the most powerful, efficient and scalable TPU system to date,Cloud TPU v5p, designed for training cutting-edge AI models. This next generation TPU will accelerate Gemini’s development and help developers and enterprise customers train large-scale generative AI models faster, allowing new products and capabilities to reach customers sooner.\\n\\nA row of Cloud TPU v5p AI accelerator supercomputers in a Google data center.'),\n",
       " Document(metadata={}, page_content='At Google, we’re committed to advancing bold and responsible AI in everything we do. Building upon Google’sAI Principlesand the robust safety policies across our products, we’re adding new protections to account for Gemini’s multimodal capabilities. At each stage of development, we’re considering potential risks and working to test and mitigate them.'),\n",
       " Document(metadata={}, page_content='Gemini has the most comprehensive safety evaluations of any Google AI model to date, including for bias and toxicity. We’ve conductednovel research into potential risk areaslike cyber-offense, persuasion and autonomy, and have applied Google Research’s best-in-classadversarial testing techniquesto help identify critical safety issues in advance of Gemini’s deployment.'),\n",
       " Document(metadata={}, page_content='To identify blindspots in our internal evaluation approach, we’re working with a diverse group of external experts and partners to stress-test our models across a range of issues.'),\n",
       " Document(metadata={}, page_content='To diagnose content safety issues during Gemini’s training phases and ensure its output follows our policies, we’re using benchmarks such asReal Toxicity Prompts, a set of 100,000 prompts with varying degrees of toxicity pulled from the web, developed by experts at the Allen Institute for AI. Further details on this work are coming soon.'),\n",
       " Document(metadata={}, page_content='To limit harm, we built dedicated safety classifiers to identify, label and sort out content involving violence or negative stereotypes, for example. Combined with robust filters, this layered approach is designed to make Gemini safer and more inclusive for everyone. Additionally, we’re continuing to address known challenges for models such as factuality, grounding, attribution and corroboration.'),\n",
       " Document(metadata={}, page_content='Responsibility and safety will always be central to the development and deployment of our models. This is a long-term commitment that requires building collaboratively, so we’re partnering with the industry and broader ecosystem on defining best practices and setting safety and security benchmarks through organizations likeMLCommons, theFrontier Model ForumanditsAI Safety Fund, and ourSecure AI Framework (SAIF), which was designed to help mitigate security risks specific to AI systems across'),\n",
       " Document(metadata={}, page_content='security risks specific to AI systems across the public and private sectors. We’ll continue partnering with researchers, governments and civil society groups around the world as we develop Gemini.'),\n",
       " Document(metadata={}, page_content='Gemini 1.0 is now rolling out across a range of products and platforms:\\n\\nWe’re bringing Gemini to billions of people through Google products.'),\n",
       " Document(metadata={}, page_content='Starting today,Bard will use a fine-tuned version of Gemini Profor more advanced reasoning, planning, understanding and more. This is the biggest upgrade to Bard since it launched. It will be available in English in more than 170 countries and territories, and we plan to expand to different modalities and support new languages and locations in the near future.'),\n",
       " Document(metadata={}, page_content='We’re alsobringing Gemini to Pixel. Pixel 8 Pro is the first smartphone engineered to run Gemini Nano, which is powering new features like Summarize in the Recorder app and rolling out in Smart Reply in Gboard, starting with WhatsApp, Line and KakaoTalk1— with more messaging apps coming next year.\\n\\nIn the coming months, Gemini will be available in more of our products and services like Search, Ads, Chrome and Duet AI.'),\n",
       " Document(metadata={}, page_content=\"We’re already starting to experiment with Gemini in Search, where it's making ourSearch Generative Experience(SGE) faster for users, with a 40% reduction in latency in English in the U.S., alongside improvements in quality.\\n\\nStarting on December 13, developers and enterprise customers can access Gemini Pro via the Gemini API inGoogle AI StudioorGoogle Cloud Vertex AI.\"),\n",
       " Document(metadata={}, page_content=\"Google AI Studio is a free, web-based developer tool to prototype and launch apps quickly with an API key. When it's time for a fully-managed AI platform, Vertex AI allows customization of Gemini with full data control and benefits from additional Google Cloud features for enterprise security, safety, privacy and data governance and compliance.\"),\n",
       " Document(metadata={}, page_content='Android developers will also be able to build with Gemini Nano, our most efficient model for on-device tasks, via AICore, a new system capability available in Android 14, starting on Pixel 8 Pro devices. Sign up for anearly preview of AICore.'),\n",
       " Document(metadata={}, page_content='For Gemini Ultra, we’re currently completing extensive trust and safety checks, including red-teaming by trusted external parties, and further refining the model using fine-tuning and reinforcement learning from human feedback (RLHF) before making it broadly available.'),\n",
       " Document(metadata={}, page_content='As part of this process, we’ll make Gemini Ultra available to select customers, developers, partners and safety and responsibility experts for early experimentation and feedback before rolling it out to developers and enterprise customers early next year.\\n\\nEarly next year, we’ll also launchBard Advanced, a new, cutting-edge AI experience that gives you access to our best models and capabilities, starting with Gemini Ultra.'),\n",
       " Document(metadata={}, page_content='This is a significant milestone in the development of AI, and the start of a new era for us at Google as we continue to rapidly innovate and responsibly advance the capabilities of our models.\\n\\nWe’ve made great progress on Gemini so far and we’re working hard to further extend its capabilities for future versions, including advances in planning and memory, and increasing the context window for processing even more information to give better responses.'),\n",
       " Document(metadata={}, page_content=\"We’re excited by the amazing possibilities of a world responsibly empowered by AI — a future of innovation that will enhance creativity, extend knowledge, advance science and transform the way billions of people live and work around the world.\\n\\nYour information will be used in accordance withGoogle's privacy policy.\\n\\nCheck your inbox to confirm your subscription.\\n\\nYou are already subscribed to our newsletter.\\n\\nYou can also subscribe with adifferent email address.\"),\n",
       " Document(metadata={}, page_content='Updated on Dec 13 to include additional messaging apps\\n\\nLet’s stay in touch. Get the latest news from Google in your inbox.')]"
      ]
     },
     "execution_count": 9,
     "metadata": {},
     "output_type": "execute_result"
    }
   ],
   "source": [
    "docs"
   ]
  },
  {
   "cell_type": "code",
   "execution_count": 10,
   "id": "7e4715c2",
   "metadata": {},
   "outputs": [
    {
     "data": {
      "text/plain": [
       "48"
      ]
     },
     "execution_count": 10,
     "metadata": {},
     "output_type": "execute_result"
    }
   ],
   "source": [
    "len(docs)"
   ]
  },
  {
   "cell_type": "code",
   "execution_count": 11,
   "id": "888b54ed",
   "metadata": {},
   "outputs": [
    {
     "name": "stdout",
     "output_type": "stream",
     "text": [
      "-----chunk1---\n",
      "Making AI more helpful for everyone\n",
      "\n",
      "A note from Google and Alphabet CEO Sundar Pichai:\n",
      "\n",
      "-----chunk2---\n",
      "Every technology shift is an opportunity to advance scientific discovery, accelerate human progress, and improve lives. I believe the transition we are seeing right now with AI will be the most profound in our lifetimes, far bigger than the shift to mobile or to the web before it. AI has the potential to create opportunities — from the everyday to the extraordinary — for people everywhere. It will bring new waves of innovation and economic progress and drive knowledge, learning, creativity and\n",
      "\n",
      "-----chunk3---\n",
      "and drive knowledge, learning, creativity and productivity on a scale we haven’t seen before.\n",
      "\n"
     ]
    }
   ],
   "source": [
    "for i,d in enumerate(docs[:3]):\n",
    "    print(f\"-----chunk{i+1}---\\n{d.page_content}\\n\")"
   ]
  },
  {
   "cell_type": "code",
   "execution_count": 12,
   "id": "42fe6d81",
   "metadata": {},
   "outputs": [],
   "source": [
    "openai_api_key=os.getenv(\"OPENAI_API_KEY\")"
   ]
  },
  {
   "cell_type": "code",
   "execution_count": 13,
   "id": "4660551d",
   "metadata": {},
   "outputs": [],
   "source": [
    "##embeddings \n",
    "from langchain.embeddings import OpenAIEmbeddings"
   ]
  },
  {
   "cell_type": "code",
   "execution_count": 14,
   "id": "64231a01",
   "metadata": {},
   "outputs": [
    {
     "name": "stderr",
     "output_type": "stream",
     "text": [
      "C:\\Users\\ajaym\\AppData\\Local\\Temp\\ipykernel_2328\\2972124400.py:1: LangChainDeprecationWarning: The class `OpenAIEmbeddings` was deprecated in LangChain 0.0.9 and will be removed in 1.0. An updated version of the class exists in the :class:`~langchain-openai package and should be used instead. To use it run `pip install -U :class:`~langchain-openai` and import as `from :class:`~langchain_openai import OpenAIEmbeddings``.\n",
      "  embeddings=OpenAIEmbeddings(openai_api_key=openai_api_key)\n"
     ]
    }
   ],
   "source": [
    "embeddings=OpenAIEmbeddings(openai_api_key=openai_api_key)\n",
    "doc_embeddings=embeddings.embed_documents([d.page_content for d in docs])"
   ]
  },
  {
   "cell_type": "code",
   "execution_count": 15,
   "id": "ecff5ff4",
   "metadata": {},
   "outputs": [
    {
     "data": {
      "text/plain": [
       "48"
      ]
     },
     "execution_count": 15,
     "metadata": {},
     "output_type": "execute_result"
    }
   ],
   "source": [
    "len(doc_embeddings)"
   ]
  },
  {
   "cell_type": "code",
   "execution_count": 16,
   "id": "39e77084",
   "metadata": {},
   "outputs": [
    {
     "name": "stdout",
     "output_type": "stream",
     "text": [
      "[-0.006556369754933286, 0.0045434492120532315, 0.02226053339114034, -0.01818732896506731, 0.013403682816203584]\n"
     ]
    }
   ],
   "source": [
    "print(doc_embeddings[0][:5])"
   ]
  },
  {
   "cell_type": "code",
   "execution_count": 17,
   "id": "a340eead",
   "metadata": {},
   "outputs": [],
   "source": [
    "from langchain.vectorstores import Chroma"
   ]
  },
  {
   "cell_type": "code",
   "execution_count": 19,
   "id": "bd31ce5d",
   "metadata": {},
   "outputs": [
    {
     "name": "stderr",
     "output_type": "stream",
     "text": [
      "C:\\Users\\ajaym\\AppData\\Local\\Temp\\ipykernel_2328\\2051094561.py:6: LangChainDeprecationWarning: Since Chroma 0.4.x the manual persistence method is no longer supported as docs are automatically persisted.\n",
      "  vectordb.persist()\n"
     ]
    }
   ],
   "source": [
    "vectordb = Chroma.from_documents(\n",
    "    documents=docs,\n",
    "    embedding=embeddings,\n",
    "    persist_directory=\"chroma_store\"  # recreated here\n",
    ")\n",
    "vectordb.persist()\n"
   ]
  },
  {
   "cell_type": "code",
   "execution_count": 20,
   "id": "d8f06db4",
   "metadata": {},
   "outputs": [],
   "source": [
    "retriever = vectordb.as_retriever()"
   ]
  },
  {
   "cell_type": "code",
   "execution_count": 21,
   "id": "37b817ae",
   "metadata": {},
   "outputs": [],
   "source": [
    "from langchain.prompts import PromptTemplate"
   ]
  },
  {
   "cell_type": "code",
   "execution_count": 22,
   "id": "0b3fe85b",
   "metadata": {},
   "outputs": [],
   "source": [
    "prompt_template=PromptTemplate(\n",
    "    input_variables=[\"context\",\"question\"],\n",
    "    template=\"\"\"\n",
    "    you are a helpful assistant. use the following context to answer the question\n",
    "    context:\n",
    "    {context}\n",
    "\n",
    "    question:\n",
    "    {question}\n",
    "    answer in a clear and detailed manner\n",
    "    \"\"\"\n",
    ")"
   ]
  },
  {
   "cell_type": "code",
   "execution_count": 23,
   "id": "7ae012da",
   "metadata": {},
   "outputs": [],
   "source": [
    "from langchain_openai import ChatOpenAI\n",
    "\n"
   ]
  },
  {
   "cell_type": "code",
   "execution_count": 24,
   "id": "95d5126d",
   "metadata": {},
   "outputs": [],
   "source": [
    "llm=ChatOpenAI(\n",
    "    temperature=0,\n",
    "    model_name=\"gpt-4o\",\n",
    "    openai_api_key=openai_api_key\n",
    ")"
   ]
  },
  {
   "cell_type": "code",
   "execution_count": 25,
   "id": "76af7e8c",
   "metadata": {},
   "outputs": [],
   "source": [
    "from langchain_core.output_parsers import StrOutputParser"
   ]
  },
  {
   "cell_type": "code",
   "execution_count": 26,
   "id": "d7ac65e3",
   "metadata": {},
   "outputs": [],
   "source": [
    "# Reuse what you already have\n",
    "parser = StrOutputParser()"
   ]
  },
  {
   "cell_type": "code",
   "execution_count": 27,
   "id": "8a36d86d",
   "metadata": {},
   "outputs": [],
   "source": [
    "# Simple chain using pipe operator\n",
    "chain = prompt_template | llm | parser"
   ]
  },
  {
   "cell_type": "code",
   "execution_count": 28,
   "id": "dda4ad88",
   "metadata": {},
   "outputs": [
    {
     "name": "stderr",
     "output_type": "stream",
     "text": [
      "C:\\Users\\ajaym\\AppData\\Local\\Temp\\ipykernel_2328\\2251238962.py:3: LangChainDeprecationWarning: The method `BaseRetriever.get_relevant_documents` was deprecated in langchain-core 0.1.46 and will be removed in 1.0. Use :meth:`~invoke` instead.\n",
      "  docs = retriever.get_relevant_documents(question)\n"
     ]
    },
    {
     "name": "stdout",
     "output_type": "stream",
     "text": [
      " Question: What is Gemini and who made it?\n",
      "\n",
      " Answer:\n",
      " Gemini is a sophisticated foundation model developed by Google, designed to understand, explain, and generate high-quality code in popular programming languages such as Python, Java, C++, and Go. It is notable for its ability to work across multiple languages and reason about complex information, making it one of the leading models for coding in the world.\n",
      "\n",
      "Gemini was created through large-scale collaborative efforts by teams across Google, including contributions from Google Research. It was built from the ground up to be a multimodal model, meaning it can generalize and seamlessly understand, operate across, and combine different types of information, including text, code, audio, image, and video.\n",
      "\n",
      "The first version, Gemini 1.0, is being rolled out across a range of products and platforms, bringing its capabilities to billions of people through various Google products. Its training allows it to recognize and understand text, images, audio, and more simultaneously, enabling it to better comprehend nuanced information and answer questions related to complex topics, particularly in fields like math and physics.\n"
     ]
    }
   ],
   "source": [
    "# Step 5: Simple invoke example\n",
    "question = \"What is Gemini and who made it?\"\n",
    "docs = retriever.get_relevant_documents(question)\n",
    "context = \"\\n\\n\".join([doc.page_content for doc in docs])\n",
    "\n",
    "response = chain.invoke({\n",
    "    \"context\": context,\n",
    "    \"question\": question\n",
    "})\n",
    "\n",
    "print(\" Question:\", question)\n",
    "print(\"\\n Answer:\\n\", response)"
   ]
  },
  {
   "cell_type": "code",
   "execution_count": null,
   "id": "f9d05ec9",
   "metadata": {},
   "outputs": [],
   "source": []
  }
 ],
 "metadata": {
  "kernelspec": {
   "display_name": "lang_venv",
   "language": "python",
   "name": "python3"
  },
  "language_info": {
   "codemirror_mode": {
    "name": "ipython",
    "version": 3
   },
   "file_extension": ".py",
   "mimetype": "text/x-python",
   "name": "python",
   "nbconvert_exporter": "python",
   "pygments_lexer": "ipython3",
   "version": "3.10.16"
  }
 },
 "nbformat": 4,
 "nbformat_minor": 5
}
