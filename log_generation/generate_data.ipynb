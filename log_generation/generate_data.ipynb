{
 "cells": [
  {
   "cell_type": "code",
   "execution_count": 1,
   "id": "9ff72b3f",
   "metadata": {},
   "outputs": [],
   "source": [
    "import random\n",
    "import csv\n",
    "from datetime import datetime, timedelta\n",
    "\n",
    "fields = ['timestamp', 'temperature', 'vibration', 'humidity', 'power_usage', 'status']\n",
    "\n",
    "def generate_data(filename='cooling_logs.csv', rows=100):\n",
    "    current_time = datetime.now()\n",
    "    with open(filename, 'w', newline='') as f:\n",
    "        writer = csv.writer(f)\n",
    "        writer.writerow(fields)\n",
    "        for _ in range(rows):\n",
    "            status = 'NORMAL'\n",
    "            temp = round(random.uniform(25, 50), 2)\n",
    "            vib = round(random.uniform(0.1, 2.5), 2)\n",
    "            hum = round(random.uniform(30, 80), 2)\n",
    "            power = round(random.uniform(200, 600), 2)\n",
    "\n",
    "            # Simulate anomaly\n",
    "            if temp > 45 or vib > 2.0 or power > 550:\n",
    "                status = 'ANOMALY'\n",
    "\n",
    "            writer.writerow([\n",
    "                current_time.strftime('%Y-%m-%d %H:%M:%S'),\n",
    "                temp, vib, hum, power, status\n",
    "            ])\n",
    "            current_time += timedelta(minutes=10)\n",
    "\n",
    "generate_data()\n"
   ]
  },
  {
   "cell_type": "code",
   "execution_count": null,
   "id": "b2b2a40f",
   "metadata": {},
   "outputs": [],
   "source": []
  },
  {
   "cell_type": "code",
   "execution_count": null,
   "id": "616d3d7b",
   "metadata": {},
   "outputs": [],
   "source": []
  }
 ],
 "metadata": {
  "kernelspec": {
   "display_name": "lang_venv",
   "language": "python",
   "name": "python3"
  },
  "language_info": {
   "codemirror_mode": {
    "name": "ipython",
    "version": 3
   },
   "file_extension": ".py",
   "mimetype": "text/x-python",
   "name": "python",
   "nbconvert_exporter": "python",
   "pygments_lexer": "ipython3",
   "version": "3.10.16"
  }
 },
 "nbformat": 4,
 "nbformat_minor": 5
}
